{
  "nbformat": 4,
  "nbformat_minor": 0,
  "metadata": {
    "colab": {
      "name": "Coffee Quality Predictions with Regression",
      "provenance": [],
      "collapsed_sections": []
    },
    "kernelspec": {
      "name": "python3",
      "display_name": "Python 3"
    }
  },
  "cells": [
    {
      "cell_type": "markdown",
      "metadata": {
        "id": "G6zuMNtSw81s"
      },
      "source": [
        "Coffee Quality Predictions with Regression"
      ]
    },
    {
      "cell_type": "markdown",
      "metadata": {
        "id": "WhZk6yu8xGxt"
      },
      "source": [
        "Data Import"
      ]
    },
    {
      "cell_type": "code",
      "metadata": {
        "id": "i9PlJ5pARb2V",
        "colab": {
          "base_uri": "https://localhost:8080/",
          "height": 204
        },
        "outputId": "dc9e46c3-a184-4166-8e05-03277cbf621d"
      },
      "source": [
        "import numpy as np\n",
        "import pandas as pd\n",
        "from sklearn.model_selection import train_test_split\n",
        "df = pd.read_csv('/content/arabica_data_selected.csv',delimiter=';')\n",
        "df.head()"
      ],
      "execution_count": null,
      "outputs": [
        {
          "output_type": "execute_result",
          "data": {
            "text/html": [
              "<div>\n",
              "<style scoped>\n",
              "    .dataframe tbody tr th:only-of-type {\n",
              "        vertical-align: middle;\n",
              "    }\n",
              "\n",
              "    .dataframe tbody tr th {\n",
              "        vertical-align: top;\n",
              "    }\n",
              "\n",
              "    .dataframe thead th {\n",
              "        text-align: right;\n",
              "    }\n",
              "</style>\n",
              "<table border=\"1\" class=\"dataframe\">\n",
              "  <thead>\n",
              "    <tr style=\"text-align: right;\">\n",
              "      <th></th>\n",
              "      <th>Country.of.Origin</th>\n",
              "      <th>Variety</th>\n",
              "      <th>Processing.Method</th>\n",
              "      <th>Moisture</th>\n",
              "      <th>Category.One.Defects</th>\n",
              "      <th>Color</th>\n",
              "      <th>Category.Two.Defects</th>\n",
              "      <th>altitude_mean_meters</th>\n",
              "      <th>Cupper.Points</th>\n",
              "    </tr>\n",
              "  </thead>\n",
              "  <tbody>\n",
              "    <tr>\n",
              "      <th>0</th>\n",
              "      <td>China</td>\n",
              "      <td>Catimor</td>\n",
              "      <td>Washed / Wet</td>\n",
              "      <td>0.10</td>\n",
              "      <td>0</td>\n",
              "      <td>Green</td>\n",
              "      <td>0</td>\n",
              "      <td>1450.0</td>\n",
              "      <td>8.42</td>\n",
              "    </tr>\n",
              "    <tr>\n",
              "      <th>1</th>\n",
              "      <td>Costa Rica</td>\n",
              "      <td>Caturra</td>\n",
              "      <td>Washed / Wet</td>\n",
              "      <td>0.11</td>\n",
              "      <td>0</td>\n",
              "      <td>Green</td>\n",
              "      <td>2</td>\n",
              "      <td>1300.0</td>\n",
              "      <td>8.33</td>\n",
              "    </tr>\n",
              "    <tr>\n",
              "      <th>2</th>\n",
              "      <td>Brazil</td>\n",
              "      <td>Bourbon</td>\n",
              "      <td>Natural / Dry</td>\n",
              "      <td>0.12</td>\n",
              "      <td>0</td>\n",
              "      <td>Green</td>\n",
              "      <td>2</td>\n",
              "      <td>1250.0</td>\n",
              "      <td>7.92</td>\n",
              "    </tr>\n",
              "    <tr>\n",
              "      <th>3</th>\n",
              "      <td>Uganda</td>\n",
              "      <td>SL14</td>\n",
              "      <td>Washed / Wet</td>\n",
              "      <td>0.12</td>\n",
              "      <td>0</td>\n",
              "      <td>Green</td>\n",
              "      <td>1</td>\n",
              "      <td>1950.0</td>\n",
              "      <td>8.17</td>\n",
              "    </tr>\n",
              "    <tr>\n",
              "      <th>4</th>\n",
              "      <td>Brazil</td>\n",
              "      <td>Bourbon</td>\n",
              "      <td>Natural / Dry</td>\n",
              "      <td>0.12</td>\n",
              "      <td>0</td>\n",
              "      <td>Green</td>\n",
              "      <td>2</td>\n",
              "      <td>1300.0</td>\n",
              "      <td>8.00</td>\n",
              "    </tr>\n",
              "  </tbody>\n",
              "</table>\n",
              "</div>"
            ],
            "text/plain": [
              "  Country.of.Origin  Variety  ... altitude_mean_meters  Cupper.Points\n",
              "0             China  Catimor  ...               1450.0           8.42\n",
              "1        Costa Rica  Caturra  ...               1300.0           8.33\n",
              "2            Brazil  Bourbon  ...               1250.0           7.92\n",
              "3            Uganda     SL14  ...               1950.0           8.17\n",
              "4            Brazil  Bourbon  ...               1300.0           8.00\n",
              "\n",
              "[5 rows x 9 columns]"
            ]
          },
          "metadata": {
            "tags": []
          },
          "execution_count": 28
        }
      ]
    },
    {
      "cell_type": "code",
      "metadata": {
        "id": "hwO7JUVQaSFw",
        "colab": {
          "base_uri": "https://localhost:8080/",
          "height": 297
        },
        "outputId": "e3a82c65-60ab-49b2-c390-658109dc9cda"
      },
      "source": [
        "df.describe()"
      ],
      "execution_count": null,
      "outputs": [
        {
          "output_type": "execute_result",
          "data": {
            "text/html": [
              "<div>\n",
              "<style scoped>\n",
              "    .dataframe tbody tr th:only-of-type {\n",
              "        vertical-align: middle;\n",
              "    }\n",
              "\n",
              "    .dataframe tbody tr th {\n",
              "        vertical-align: top;\n",
              "    }\n",
              "\n",
              "    .dataframe thead th {\n",
              "        text-align: right;\n",
              "    }\n",
              "</style>\n",
              "<table border=\"1\" class=\"dataframe\">\n",
              "  <thead>\n",
              "    <tr style=\"text-align: right;\">\n",
              "      <th></th>\n",
              "      <th>Moisture</th>\n",
              "      <th>Category.One.Defects</th>\n",
              "      <th>Category.Two.Defects</th>\n",
              "      <th>altitude_mean_meters</th>\n",
              "      <th>Cupper.Points</th>\n",
              "    </tr>\n",
              "  </thead>\n",
              "  <tbody>\n",
              "    <tr>\n",
              "      <th>count</th>\n",
              "      <td>628.000000</td>\n",
              "      <td>628.000000</td>\n",
              "      <td>628.000000</td>\n",
              "      <td>628.00000</td>\n",
              "      <td>628.000000</td>\n",
              "    </tr>\n",
              "    <tr>\n",
              "      <th>mean</th>\n",
              "      <td>0.095669</td>\n",
              "      <td>0.253185</td>\n",
              "      <td>2.799363</td>\n",
              "      <td>1351.35502</td>\n",
              "      <td>7.572834</td>\n",
              "    </tr>\n",
              "    <tr>\n",
              "      <th>std</th>\n",
              "      <td>0.040302</td>\n",
              "      <td>1.515862</td>\n",
              "      <td>3.470707</td>\n",
              "      <td>442.08983</td>\n",
              "      <td>0.267759</td>\n",
              "    </tr>\n",
              "    <tr>\n",
              "      <th>min</th>\n",
              "      <td>0.000000</td>\n",
              "      <td>0.000000</td>\n",
              "      <td>0.000000</td>\n",
              "      <td>13.00000</td>\n",
              "      <td>6.670000</td>\n",
              "    </tr>\n",
              "    <tr>\n",
              "      <th>25%</th>\n",
              "      <td>0.100000</td>\n",
              "      <td>0.000000</td>\n",
              "      <td>0.000000</td>\n",
              "      <td>1170.00000</td>\n",
              "      <td>7.420000</td>\n",
              "    </tr>\n",
              "    <tr>\n",
              "      <th>50%</th>\n",
              "      <td>0.110000</td>\n",
              "      <td>0.000000</td>\n",
              "      <td>2.000000</td>\n",
              "      <td>1350.00000</td>\n",
              "      <td>7.580000</td>\n",
              "    </tr>\n",
              "    <tr>\n",
              "      <th>75%</th>\n",
              "      <td>0.120000</td>\n",
              "      <td>0.000000</td>\n",
              "      <td>4.000000</td>\n",
              "      <td>1629.25000</td>\n",
              "      <td>7.750000</td>\n",
              "    </tr>\n",
              "    <tr>\n",
              "      <th>max</th>\n",
              "      <td>0.140000</td>\n",
              "      <td>31.000000</td>\n",
              "      <td>32.000000</td>\n",
              "      <td>4001.00000</td>\n",
              "      <td>8.500000</td>\n",
              "    </tr>\n",
              "  </tbody>\n",
              "</table>\n",
              "</div>"
            ],
            "text/plain": [
              "         Moisture  Category.One.Defects  ...  altitude_mean_meters  Cupper.Points\n",
              "count  628.000000            628.000000  ...             628.00000     628.000000\n",
              "mean     0.095669              0.253185  ...            1351.35502       7.572834\n",
              "std      0.040302              1.515862  ...             442.08983       0.267759\n",
              "min      0.000000              0.000000  ...              13.00000       6.670000\n",
              "25%      0.100000              0.000000  ...            1170.00000       7.420000\n",
              "50%      0.110000              0.000000  ...            1350.00000       7.580000\n",
              "75%      0.120000              0.000000  ...            1629.25000       7.750000\n",
              "max      0.140000             31.000000  ...            4001.00000       8.500000\n",
              "\n",
              "[8 rows x 5 columns]"
            ]
          },
          "metadata": {
            "tags": []
          },
          "execution_count": 29
        }
      ]
    },
    {
      "cell_type": "markdown",
      "metadata": {
        "id": "DCNGzK2Fw5E5"
      },
      "source": [
        "Data Preprocessing"
      ]
    },
    {
      "cell_type": "code",
      "metadata": {
        "id": "Q5u6cchJcPD5"
      },
      "source": [
        "import sklearn.preprocessing\n",
        "from sklearn.preprocessing import LabelEncoder\n",
        "\n",
        "le = LabelEncoder()\n",
        "df['Variety'] = le.fit_transform(df['Variety'])\n",
        "df['Processing.Method'] = le.fit_transform(df['Processing.Method'])\n",
        "df['Color'] = le.fit_transform(df['Color'])\n",
        "df['Country.of.Origin'] = le.fit_transform(df['Country.of.Origin'])"
      ],
      "execution_count": null,
      "outputs": []
    },
    {
      "cell_type": "code",
      "metadata": {
        "id": "UBdUEnd7Dfhb"
      },
      "source": [
        "# from keras.utils import to_categorical\n",
        "# df['Variety'] = to_categorical(df['Variety'])\n",
        "# df['Processing.Method'] = to_categorical(df['Processing.Method'])\n",
        "# df['Color'] = to_categorical(df['Color'])\n",
        "# df['Country.of.Origin'] = to_categorical(df['Country.of.Origin'])"
      ],
      "execution_count": null,
      "outputs": []
    },
    {
      "cell_type": "code",
      "metadata": {
        "id": "f6u01o-uGjlP",
        "colab": {
          "base_uri": "https://localhost:8080/",
          "height": 204
        },
        "outputId": "9311b8be-2e17-4222-997e-01ec48aeb586"
      },
      "source": [
        "df.head()"
      ],
      "execution_count": null,
      "outputs": [
        {
          "output_type": "execute_result",
          "data": {
            "text/html": [
              "<div>\n",
              "<style scoped>\n",
              "    .dataframe tbody tr th:only-of-type {\n",
              "        vertical-align: middle;\n",
              "    }\n",
              "\n",
              "    .dataframe tbody tr th {\n",
              "        vertical-align: top;\n",
              "    }\n",
              "\n",
              "    .dataframe thead th {\n",
              "        text-align: right;\n",
              "    }\n",
              "</style>\n",
              "<table border=\"1\" class=\"dataframe\">\n",
              "  <thead>\n",
              "    <tr style=\"text-align: right;\">\n",
              "      <th></th>\n",
              "      <th>Country.of.Origin</th>\n",
              "      <th>Variety</th>\n",
              "      <th>Processing.Method</th>\n",
              "      <th>Moisture</th>\n",
              "      <th>Category.One.Defects</th>\n",
              "      <th>Color</th>\n",
              "      <th>Category.Two.Defects</th>\n",
              "      <th>altitude_mean_meters</th>\n",
              "      <th>Cupper.Points</th>\n",
              "    </tr>\n",
              "  </thead>\n",
              "  <tbody>\n",
              "    <tr>\n",
              "      <th>0</th>\n",
              "      <td>1</td>\n",
              "      <td>3</td>\n",
              "      <td>3</td>\n",
              "      <td>0.10</td>\n",
              "      <td>0</td>\n",
              "      <td>1</td>\n",
              "      <td>0</td>\n",
              "      <td>1450.0</td>\n",
              "      <td>8.42</td>\n",
              "    </tr>\n",
              "    <tr>\n",
              "      <th>1</th>\n",
              "      <td>3</td>\n",
              "      <td>5</td>\n",
              "      <td>3</td>\n",
              "      <td>0.11</td>\n",
              "      <td>0</td>\n",
              "      <td>1</td>\n",
              "      <td>2</td>\n",
              "      <td>1300.0</td>\n",
              "      <td>8.33</td>\n",
              "    </tr>\n",
              "    <tr>\n",
              "      <th>2</th>\n",
              "      <td>0</td>\n",
              "      <td>2</td>\n",
              "      <td>0</td>\n",
              "      <td>0.12</td>\n",
              "      <td>0</td>\n",
              "      <td>1</td>\n",
              "      <td>2</td>\n",
              "      <td>1250.0</td>\n",
              "      <td>7.92</td>\n",
              "    </tr>\n",
              "    <tr>\n",
              "      <th>3</th>\n",
              "      <td>22</td>\n",
              "      <td>15</td>\n",
              "      <td>3</td>\n",
              "      <td>0.12</td>\n",
              "      <td>0</td>\n",
              "      <td>1</td>\n",
              "      <td>1</td>\n",
              "      <td>1950.0</td>\n",
              "      <td>8.17</td>\n",
              "    </tr>\n",
              "    <tr>\n",
              "      <th>4</th>\n",
              "      <td>0</td>\n",
              "      <td>2</td>\n",
              "      <td>0</td>\n",
              "      <td>0.12</td>\n",
              "      <td>0</td>\n",
              "      <td>1</td>\n",
              "      <td>2</td>\n",
              "      <td>1300.0</td>\n",
              "      <td>8.00</td>\n",
              "    </tr>\n",
              "  </tbody>\n",
              "</table>\n",
              "</div>"
            ],
            "text/plain": [
              "   Country.of.Origin  Variety  ...  altitude_mean_meters  Cupper.Points\n",
              "0                  1        3  ...                1450.0           8.42\n",
              "1                  3        5  ...                1300.0           8.33\n",
              "2                  0        2  ...                1250.0           7.92\n",
              "3                 22       15  ...                1950.0           8.17\n",
              "4                  0        2  ...                1300.0           8.00\n",
              "\n",
              "[5 rows x 9 columns]"
            ]
          },
          "metadata": {
            "tags": []
          },
          "execution_count": 32
        }
      ]
    },
    {
      "cell_type": "code",
      "metadata": {
        "id": "-5rpquq4y2Dx"
      },
      "source": [
        "def norm(signal):\n",
        "        new_signal = []\n",
        "        for i in range(len(signal)):\n",
        "            new_signal.append(((signal[i] - min(signal)) / (max(signal) - min(signal))))\n",
        "        return new_signal\n",
        "\n",
        "df['Moisture'] = norm(df['Moisture'])\n",
        "df['Category.One.Defects'] = norm(df['Category.One.Defects'])\n",
        "df['Category.Two.Defects'] = norm(df['Category.Two.Defects'])\n",
        "df['altitude_mean_meters'] = norm(df['altitude_mean_meters'])"
      ],
      "execution_count": null,
      "outputs": []
    },
    {
      "cell_type": "code",
      "metadata": {
        "id": "0NBdbI2YTWo6"
      },
      "source": [
        "X = df.drop('Cupper.Points',axis=1)\n",
        "y = df['Cupper.Points']\n",
        "\n",
        "X_train, X_test, y_train, y_test = train_test_split(X,y,test_size=0.3)"
      ],
      "execution_count": null,
      "outputs": []
    },
    {
      "cell_type": "code",
      "metadata": {
        "id": "k00zKzKNGbJF",
        "colab": {
          "base_uri": "https://localhost:8080/",
          "height": 204
        },
        "outputId": "ec7a9052-30f2-4e3f-bb9c-36c076e90185"
      },
      "source": [
        "X_train.head()"
      ],
      "execution_count": null,
      "outputs": [
        {
          "output_type": "execute_result",
          "data": {
            "text/html": [
              "<div>\n",
              "<style scoped>\n",
              "    .dataframe tbody tr th:only-of-type {\n",
              "        vertical-align: middle;\n",
              "    }\n",
              "\n",
              "    .dataframe tbody tr th {\n",
              "        vertical-align: top;\n",
              "    }\n",
              "\n",
              "    .dataframe thead th {\n",
              "        text-align: right;\n",
              "    }\n",
              "</style>\n",
              "<table border=\"1\" class=\"dataframe\">\n",
              "  <thead>\n",
              "    <tr style=\"text-align: right;\">\n",
              "      <th></th>\n",
              "      <th>Country.of.Origin</th>\n",
              "      <th>Variety</th>\n",
              "      <th>Processing.Method</th>\n",
              "      <th>Moisture</th>\n",
              "      <th>Category.One.Defects</th>\n",
              "      <th>Color</th>\n",
              "      <th>Category.Two.Defects</th>\n",
              "      <th>altitude_mean_meters</th>\n",
              "    </tr>\n",
              "  </thead>\n",
              "  <tbody>\n",
              "    <tr>\n",
              "      <th>568</th>\n",
              "      <td>14</td>\n",
              "      <td>5</td>\n",
              "      <td>3</td>\n",
              "      <td>0.857143</td>\n",
              "      <td>0.000000</td>\n",
              "      <td>1</td>\n",
              "      <td>0.31250</td>\n",
              "      <td>0.297643</td>\n",
              "    </tr>\n",
              "    <tr>\n",
              "      <th>549</th>\n",
              "      <td>13</td>\n",
              "      <td>7</td>\n",
              "      <td>3</td>\n",
              "      <td>0.857143</td>\n",
              "      <td>0.000000</td>\n",
              "      <td>0</td>\n",
              "      <td>0.00000</td>\n",
              "      <td>0.353310</td>\n",
              "    </tr>\n",
              "    <tr>\n",
              "      <th>86</th>\n",
              "      <td>2</td>\n",
              "      <td>5</td>\n",
              "      <td>0</td>\n",
              "      <td>0.785714</td>\n",
              "      <td>0.000000</td>\n",
              "      <td>1</td>\n",
              "      <td>0.06250</td>\n",
              "      <td>0.638666</td>\n",
              "    </tr>\n",
              "    <tr>\n",
              "      <th>282</th>\n",
              "      <td>6</td>\n",
              "      <td>2</td>\n",
              "      <td>3</td>\n",
              "      <td>0.714286</td>\n",
              "      <td>0.032258</td>\n",
              "      <td>1</td>\n",
              "      <td>0.00000</td>\n",
              "      <td>0.372869</td>\n",
              "    </tr>\n",
              "    <tr>\n",
              "      <th>570</th>\n",
              "      <td>8</td>\n",
              "      <td>4</td>\n",
              "      <td>0</td>\n",
              "      <td>0.928571</td>\n",
              "      <td>0.000000</td>\n",
              "      <td>1</td>\n",
              "      <td>0.03125</td>\n",
              "      <td>0.360331</td>\n",
              "    </tr>\n",
              "  </tbody>\n",
              "</table>\n",
              "</div>"
            ],
            "text/plain": [
              "     Country.of.Origin  Variety  ...  Category.Two.Defects  altitude_mean_meters\n",
              "568                 14        5  ...               0.31250              0.297643\n",
              "549                 13        7  ...               0.00000              0.353310\n",
              "86                   2        5  ...               0.06250              0.638666\n",
              "282                  6        2  ...               0.00000              0.372869\n",
              "570                  8        4  ...               0.03125              0.360331\n",
              "\n",
              "[5 rows x 8 columns]"
            ]
          },
          "metadata": {
            "tags": []
          },
          "execution_count": 35
        }
      ]
    },
    {
      "cell_type": "markdown",
      "metadata": {
        "id": "jzO-CYM_0OS-"
      },
      "source": [
        "Build Model"
      ]
    },
    {
      "cell_type": "code",
      "metadata": {
        "id": "6ZR3KUze0N0v"
      },
      "source": [
        "import seaborn as sns\n",
        "import tensorflow as tf\n",
        "import math\n",
        "from tensorflow import keras\n",
        "from tensorflow.keras import layers\n",
        "\n",
        "import keras.backend as K\n",
        "\n",
        "def gaussian(x):\n",
        "    return K.exp(-K.pow(x,2))\n",
        "\n",
        "def gelu(x):\n",
        "    return 0.5*x*(1+K.tanh(K.sqrt(2/np.pi*(x+0.044715*K.pow(x,3)))))\n",
        "\n",
        "model = keras.Sequential([\n",
        "    keras.Input(shape=[8]),\n",
        "    layers.Dense(8, activation=gelu),\n",
        "    layers.Dense(2),\n",
        "    layers.Dense(1)\n",
        "  ])\n",
        "\n",
        "# optimizer = tf.keras.optimizers.RMSprop(0.001)\n",
        "\n",
        "model.compile(loss='mse',\n",
        "                # optimizer=optimizer,\n",
        "                metrics=['mae', 'mse'])"
      ],
      "execution_count": null,
      "outputs": []
    },
    {
      "cell_type": "code",
      "metadata": {
        "id": "ruBLfQY-2uCj",
        "colab": {
          "base_uri": "https://localhost:8080/",
          "height": 1000
        },
        "outputId": "5d7e8c39-09f8-4f0b-df90-6d77988a0cac"
      },
      "source": [
        "history = model.fit(\n",
        "  X_train, y_train,\n",
        "  epochs=100, verbose=2)"
      ],
      "execution_count": null,
      "outputs": [
        {
          "output_type": "stream",
          "text": [
            "Epoch 1/100\n",
            "14/14 - 0s - loss: 245.1955 - mae: 10.7027 - mse: 245.1955\n",
            "Epoch 2/100\n",
            "14/14 - 0s - loss: 175.5840 - mae: 9.2992 - mse: 175.5840\n",
            "Epoch 3/100\n",
            "14/14 - 0s - loss: 130.6037 - mae: 8.3355 - mse: 130.6037\n",
            "Epoch 4/100\n",
            "14/14 - 0s - loss: 96.5901 - mae: 7.5141 - mse: 96.5901\n",
            "Epoch 5/100\n",
            "14/14 - 0s - loss: 72.2804 - mae: 6.8692 - mse: 72.2804\n",
            "Epoch 6/100\n",
            "14/14 - 0s - loss: 55.3959 - mae: 6.3521 - mse: 55.3959\n",
            "Epoch 7/100\n",
            "14/14 - 0s - loss: 43.8983 - mae: 5.8792 - mse: 43.8983\n",
            "Epoch 8/100\n",
            "14/14 - 0s - loss: 36.6140 - mae: 5.4945 - mse: 36.6140\n",
            "Epoch 9/100\n",
            "14/14 - 0s - loss: 31.5513 - mae: 5.1336 - mse: 31.5513\n",
            "Epoch 10/100\n",
            "14/14 - 0s - loss: 28.1193 - mae: 4.8352 - mse: 28.1193\n",
            "Epoch 11/100\n",
            "14/14 - 0s - loss: 25.8712 - mae: 4.6204 - mse: 25.8712\n",
            "Epoch 12/100\n",
            "14/14 - 0s - loss: 24.1115 - mae: 4.4466 - mse: 24.1115\n",
            "Epoch 13/100\n",
            "14/14 - 0s - loss: 22.6125 - mae: 4.2963 - mse: 22.6125\n",
            "Epoch 14/100\n",
            "14/14 - 0s - loss: 21.1499 - mae: 4.1386 - mse: 21.1499\n",
            "Epoch 15/100\n",
            "14/14 - 0s - loss: 19.8375 - mae: 4.0002 - mse: 19.8375\n",
            "Epoch 16/100\n",
            "14/14 - 0s - loss: 18.5181 - mae: 3.8527 - mse: 18.5181\n",
            "Epoch 17/100\n",
            "14/14 - 0s - loss: 17.3362 - mae: 3.7288 - mse: 17.3362\n",
            "Epoch 18/100\n",
            "14/14 - 0s - loss: 16.1115 - mae: 3.5882 - mse: 16.1115\n",
            "Epoch 19/100\n",
            "14/14 - 0s - loss: 14.8999 - mae: 3.4352 - mse: 14.8999\n",
            "Epoch 20/100\n",
            "14/14 - 0s - loss: 13.6908 - mae: 3.2659 - mse: 13.6908\n",
            "Epoch 21/100\n",
            "14/14 - 0s - loss: 12.6115 - mae: 3.1435 - mse: 12.6115\n",
            "Epoch 22/100\n",
            "14/14 - 0s - loss: 11.4811 - mae: 2.9925 - mse: 11.4811\n",
            "Epoch 23/100\n",
            "14/14 - 0s - loss: 10.4365 - mae: 2.8146 - mse: 10.4365\n",
            "Epoch 24/100\n",
            "14/14 - 0s - loss: 9.4119 - mae: 2.6628 - mse: 9.4119\n",
            "Epoch 25/100\n",
            "14/14 - 0s - loss: 8.4651 - mae: 2.5168 - mse: 8.4651\n",
            "Epoch 26/100\n",
            "14/14 - 0s - loss: 7.4887 - mae: 2.3443 - mse: 7.4887\n",
            "Epoch 27/100\n",
            "14/14 - 0s - loss: 6.6046 - mae: 2.1746 - mse: 6.6046\n",
            "Epoch 28/100\n",
            "14/14 - 0s - loss: 5.7664 - mae: 1.9871 - mse: 5.7664\n",
            "Epoch 29/100\n",
            "14/14 - 0s - loss: 5.0487 - mae: 1.8330 - mse: 5.0487\n",
            "Epoch 30/100\n",
            "14/14 - 0s - loss: 4.4389 - mae: 1.6713 - mse: 4.4389\n",
            "Epoch 31/100\n",
            "14/14 - 0s - loss: 3.8925 - mae: 1.5171 - mse: 3.8925\n",
            "Epoch 32/100\n",
            "14/14 - 0s - loss: 3.4775 - mae: 1.3926 - mse: 3.4775\n",
            "Epoch 33/100\n",
            "14/14 - 0s - loss: 3.1374 - mae: 1.2771 - mse: 3.1374\n",
            "Epoch 34/100\n",
            "14/14 - 0s - loss: 2.9269 - mae: 1.2196 - mse: 2.9269\n",
            "Epoch 35/100\n",
            "14/14 - 0s - loss: 2.7222 - mae: 1.1778 - mse: 2.7222\n",
            "Epoch 36/100\n",
            "14/14 - 0s - loss: 2.5720 - mae: 1.1458 - mse: 2.5720\n",
            "Epoch 37/100\n",
            "14/14 - 0s - loss: 2.4504 - mae: 1.1281 - mse: 2.4504\n",
            "Epoch 38/100\n",
            "14/14 - 0s - loss: 2.2530 - mae: 1.1080 - mse: 2.2530\n",
            "Epoch 39/100\n",
            "14/14 - 0s - loss: 2.2093 - mae: 1.0706 - mse: 2.2093\n",
            "Epoch 40/100\n",
            "14/14 - 0s - loss: 2.0827 - mae: 1.0606 - mse: 2.0827\n",
            "Epoch 41/100\n",
            "14/14 - 0s - loss: 1.9731 - mae: 1.0460 - mse: 1.9731\n",
            "Epoch 42/100\n",
            "14/14 - 0s - loss: 1.8813 - mae: 1.0105 - mse: 1.8813\n",
            "Epoch 43/100\n",
            "14/14 - 0s - loss: 1.8159 - mae: 1.0204 - mse: 1.8159\n",
            "Epoch 44/100\n",
            "14/14 - 0s - loss: 1.7045 - mae: 0.9791 - mse: 1.7045\n",
            "Epoch 45/100\n",
            "14/14 - 0s - loss: 1.6537 - mae: 0.9657 - mse: 1.6537\n",
            "Epoch 46/100\n",
            "14/14 - 0s - loss: 1.5685 - mae: 0.9457 - mse: 1.5685\n",
            "Epoch 47/100\n",
            "14/14 - 0s - loss: 1.5170 - mae: 0.9550 - mse: 1.5170\n",
            "Epoch 48/100\n",
            "14/14 - 0s - loss: 1.4435 - mae: 0.9054 - mse: 1.4435\n",
            "Epoch 49/100\n",
            "14/14 - 0s - loss: 1.3914 - mae: 0.9065 - mse: 1.3914\n",
            "Epoch 50/100\n",
            "14/14 - 0s - loss: 1.3219 - mae: 0.8811 - mse: 1.3219\n",
            "Epoch 51/100\n",
            "14/14 - 0s - loss: 1.2976 - mae: 0.8784 - mse: 1.2976\n",
            "Epoch 52/100\n",
            "14/14 - 0s - loss: 1.2264 - mae: 0.8478 - mse: 1.2264\n",
            "Epoch 53/100\n",
            "14/14 - 0s - loss: 1.1899 - mae: 0.8382 - mse: 1.1899\n",
            "Epoch 54/100\n",
            "14/14 - 0s - loss: 1.1231 - mae: 0.8129 - mse: 1.1231\n",
            "Epoch 55/100\n",
            "14/14 - 0s - loss: 1.0999 - mae: 0.8120 - mse: 1.0999\n",
            "Epoch 56/100\n",
            "14/14 - 0s - loss: 1.0582 - mae: 0.7852 - mse: 1.0582\n",
            "Epoch 57/100\n",
            "14/14 - 0s - loss: 1.0271 - mae: 0.7838 - mse: 1.0271\n",
            "Epoch 58/100\n",
            "14/14 - 0s - loss: 0.9967 - mae: 0.7663 - mse: 0.9967\n",
            "Epoch 59/100\n",
            "14/14 - 0s - loss: 0.9492 - mae: 0.7587 - mse: 0.9492\n",
            "Epoch 60/100\n",
            "14/14 - 0s - loss: 0.9079 - mae: 0.7464 - mse: 0.9079\n",
            "Epoch 61/100\n",
            "14/14 - 0s - loss: 0.8817 - mae: 0.7169 - mse: 0.8817\n",
            "Epoch 62/100\n",
            "14/14 - 0s - loss: 0.8660 - mae: 0.7247 - mse: 0.8660\n",
            "Epoch 63/100\n",
            "14/14 - 0s - loss: 0.8270 - mae: 0.7047 - mse: 0.8270\n",
            "Epoch 64/100\n",
            "14/14 - 0s - loss: 0.7945 - mae: 0.6935 - mse: 0.7945\n",
            "Epoch 65/100\n",
            "14/14 - 0s - loss: 0.7742 - mae: 0.6796 - mse: 0.7742\n",
            "Epoch 66/100\n",
            "14/14 - 0s - loss: 0.7391 - mae: 0.6649 - mse: 0.7391\n",
            "Epoch 67/100\n",
            "14/14 - 0s - loss: 0.7216 - mae: 0.6613 - mse: 0.7216\n",
            "Epoch 68/100\n",
            "14/14 - 0s - loss: 0.7077 - mae: 0.6413 - mse: 0.7077\n",
            "Epoch 69/100\n",
            "14/14 - 0s - loss: 0.6639 - mae: 0.6278 - mse: 0.6639\n",
            "Epoch 70/100\n",
            "14/14 - 0s - loss: 0.6410 - mae: 0.6183 - mse: 0.6410\n",
            "Epoch 71/100\n",
            "14/14 - 0s - loss: 0.6461 - mae: 0.6224 - mse: 0.6461\n",
            "Epoch 72/100\n",
            "14/14 - 0s - loss: 0.5988 - mae: 0.5926 - mse: 0.5988\n",
            "Epoch 73/100\n",
            "14/14 - 0s - loss: 0.5916 - mae: 0.5996 - mse: 0.5916\n",
            "Epoch 74/100\n",
            "14/14 - 0s - loss: 0.5700 - mae: 0.5853 - mse: 0.5700\n",
            "Epoch 75/100\n",
            "14/14 - 0s - loss: 0.5542 - mae: 0.5778 - mse: 0.5542\n",
            "Epoch 76/100\n",
            "14/14 - 0s - loss: 0.5234 - mae: 0.5572 - mse: 0.5234\n",
            "Epoch 77/100\n",
            "14/14 - 0s - loss: 0.5203 - mae: 0.5503 - mse: 0.5203\n",
            "Epoch 78/100\n",
            "14/14 - 0s - loss: 0.5017 - mae: 0.5470 - mse: 0.5017\n",
            "Epoch 79/100\n",
            "14/14 - 0s - loss: 0.4665 - mae: 0.5251 - mse: 0.4665\n",
            "Epoch 80/100\n",
            "14/14 - 0s - loss: 0.4683 - mae: 0.5243 - mse: 0.4683\n",
            "Epoch 81/100\n",
            "14/14 - 0s - loss: 0.4583 - mae: 0.5230 - mse: 0.4583\n",
            "Epoch 82/100\n",
            "14/14 - 0s - loss: 0.4451 - mae: 0.5104 - mse: 0.4451\n",
            "Epoch 83/100\n",
            "14/14 - 0s - loss: 0.4250 - mae: 0.5042 - mse: 0.4250\n",
            "Epoch 84/100\n",
            "14/14 - 0s - loss: 0.4133 - mae: 0.4994 - mse: 0.4133\n",
            "Epoch 85/100\n",
            "14/14 - 0s - loss: 0.4044 - mae: 0.4893 - mse: 0.4044\n",
            "Epoch 86/100\n",
            "14/14 - 0s - loss: 0.3739 - mae: 0.4716 - mse: 0.3739\n",
            "Epoch 87/100\n",
            "14/14 - 0s - loss: 0.3763 - mae: 0.4726 - mse: 0.3763\n",
            "Epoch 88/100\n",
            "14/14 - 0s - loss: 0.3617 - mae: 0.4638 - mse: 0.3617\n",
            "Epoch 89/100\n",
            "14/14 - 0s - loss: 0.3533 - mae: 0.4602 - mse: 0.3533\n",
            "Epoch 90/100\n",
            "14/14 - 0s - loss: 0.3479 - mae: 0.4512 - mse: 0.3479\n",
            "Epoch 91/100\n",
            "14/14 - 0s - loss: 0.3266 - mae: 0.4393 - mse: 0.3266\n",
            "Epoch 92/100\n",
            "14/14 - 0s - loss: 0.3302 - mae: 0.4470 - mse: 0.3302\n",
            "Epoch 93/100\n",
            "14/14 - 0s - loss: 0.3154 - mae: 0.4307 - mse: 0.3154\n",
            "Epoch 94/100\n",
            "14/14 - 0s - loss: 0.3026 - mae: 0.4203 - mse: 0.3026\n",
            "Epoch 95/100\n",
            "14/14 - 0s - loss: 0.2979 - mae: 0.4226 - mse: 0.2979\n",
            "Epoch 96/100\n",
            "14/14 - 0s - loss: 0.2775 - mae: 0.4049 - mse: 0.2775\n",
            "Epoch 97/100\n",
            "14/14 - 0s - loss: 0.2811 - mae: 0.4052 - mse: 0.2811\n",
            "Epoch 98/100\n",
            "14/14 - 0s - loss: 0.2710 - mae: 0.4008 - mse: 0.2710\n",
            "Epoch 99/100\n",
            "14/14 - 0s - loss: 0.2681 - mae: 0.3969 - mse: 0.2681\n",
            "Epoch 100/100\n",
            "14/14 - 0s - loss: 0.2540 - mae: 0.3815 - mse: 0.2540\n"
          ],
          "name": "stdout"
        }
      ]
    },
    {
      "cell_type": "code",
      "metadata": {
        "id": "SzWymxslc1uM",
        "colab": {
          "base_uri": "https://localhost:8080/",
          "height": 301
        },
        "outputId": "9fcdbad5-e938-4065-848d-3039d2a93ed8"
      },
      "source": [
        "print(history.history.keys())\n",
        "import matplotlib.pyplot as plt\n",
        "plt.plot(history.history['mse'])\n",
        "plt.plot(history.history['mae'])\n",
        "plt.show()\n",
        "\n",
        "loss, mae, mse = model.evaluate(X_test, y_test, verbose=1)"
      ],
      "execution_count": null,
      "outputs": [
        {
          "output_type": "stream",
          "text": [
            "dict_keys(['loss', 'mae', 'mse'])\n"
          ],
          "name": "stdout"
        },
        {
          "output_type": "display_data",
          "data": {
            "image/png": "[encoded data removed]",
            "text/plain": [
              "<Figure size 432x288 with 1 Axes>"
            ]
          },
          "metadata": {
            "tags": [],
            "needs_background": "light"
          }
        },
        {
          "output_type": "stream",
          "text": [
            "6/6 [==============================] - 0s 2ms/step - loss: 0.2836 - mae: 0.4132 - mse: 0.2836\n"
          ],
          "name": "stdout"
        }
      ]
    },
    {
      "cell_type": "code",
      "metadata": {
        "id": "xXOFttDz3Mhf"
      },
      "source": [
        ""
      ],
      "execution_count": null,
      "outputs": []
    },
    {
      "cell_type": "code",
      "metadata": {
        "id": "3xFByKVoyIPu",
        "colab": {
          "base_uri": "https://localhost:8080/",
          "height": 204
        },
        "outputId": "271c5377-e7f7-48e2-d41a-ee1cf8a5f96e"
      },
      "source": [
        "X_test.head()"
      ],
      "execution_count": null,
      "outputs": [
        {
          "output_type": "execute_result",
          "data": {
            "text/html": [
              "<div>\n",
              "<style scoped>\n",
              "    .dataframe tbody tr th:only-of-type {\n",
              "        vertical-align: middle;\n",
              "    }\n",
              "\n",
              "    .dataframe tbody tr th {\n",
              "        vertical-align: top;\n",
              "    }\n",
              "\n",
              "    .dataframe thead th {\n",
              "        text-align: right;\n",
              "    }\n",
              "</style>\n",
              "<table border=\"1\" class=\"dataframe\">\n",
              "  <thead>\n",
              "    <tr style=\"text-align: right;\">\n",
              "      <th></th>\n",
              "      <th>Country.of.Origin</th>\n",
              "      <th>Variety</th>\n",
              "      <th>Processing.Method</th>\n",
              "      <th>Moisture</th>\n",
              "      <th>Category.One.Defects</th>\n",
              "      <th>Color</th>\n",
              "      <th>Category.Two.Defects</th>\n",
              "      <th>altitude_mean_meters</th>\n",
              "    </tr>\n",
              "  </thead>\n",
              "  <tbody>\n",
              "    <tr>\n",
              "      <th>208</th>\n",
              "      <td>21</td>\n",
              "      <td>3</td>\n",
              "      <td>3</td>\n",
              "      <td>0.928571</td>\n",
              "      <td>0.0</td>\n",
              "      <td>0</td>\n",
              "      <td>0.00000</td>\n",
              "      <td>0.297643</td>\n",
              "    </tr>\n",
              "    <tr>\n",
              "      <th>521</th>\n",
              "      <td>14</td>\n",
              "      <td>5</td>\n",
              "      <td>2</td>\n",
              "      <td>0.785714</td>\n",
              "      <td>0.0</td>\n",
              "      <td>1</td>\n",
              "      <td>0.12500</td>\n",
              "      <td>0.232447</td>\n",
              "    </tr>\n",
              "    <tr>\n",
              "      <th>580</th>\n",
              "      <td>14</td>\n",
              "      <td>20</td>\n",
              "      <td>3</td>\n",
              "      <td>0.857143</td>\n",
              "      <td>0.0</td>\n",
              "      <td>1</td>\n",
              "      <td>0.06250</td>\n",
              "      <td>0.322718</td>\n",
              "    </tr>\n",
              "    <tr>\n",
              "      <th>62</th>\n",
              "      <td>6</td>\n",
              "      <td>12</td>\n",
              "      <td>3</td>\n",
              "      <td>0.785714</td>\n",
              "      <td>0.0</td>\n",
              "      <td>1</td>\n",
              "      <td>0.03125</td>\n",
              "      <td>0.378887</td>\n",
              "    </tr>\n",
              "    <tr>\n",
              "      <th>431</th>\n",
              "      <td>0</td>\n",
              "      <td>2</td>\n",
              "      <td>0</td>\n",
              "      <td>0.785714</td>\n",
              "      <td>0.0</td>\n",
              "      <td>1</td>\n",
              "      <td>0.00000</td>\n",
              "      <td>0.272568</td>\n",
              "    </tr>\n",
              "  </tbody>\n",
              "</table>\n",
              "</div>"
            ],
            "text/plain": [
              "     Country.of.Origin  Variety  ...  Category.Two.Defects  altitude_mean_meters\n",
              "208                 21        3  ...               0.00000              0.297643\n",
              "521                 14        5  ...               0.12500              0.232447\n",
              "580                 14       20  ...               0.06250              0.322718\n",
              "62                   6       12  ...               0.03125              0.378887\n",
              "431                  0        2  ...               0.00000              0.272568\n",
              "\n",
              "[5 rows x 8 columns]"
            ]
          },
          "metadata": {
            "tags": []
          },
          "execution_count": 84
        }
      ]
    },
    {
      "cell_type": "code",
      "metadata": {
        "id": "gXHCdbrPi9Tv",
        "colab": {
          "base_uri": "https://localhost:8080/",
          "height": 125
        },
        "outputId": "2796f328-ff15-4a0b-9bb4-40bf70edc07b"
      },
      "source": [
        "y_test.head()"
      ],
      "execution_count": null,
      "outputs": [
        {
          "output_type": "execute_result",
          "data": {
            "text/plain": [
              "208    7.67\n",
              "521    7.67\n",
              "580    7.08\n",
              "62     7.83\n",
              "431    7.42\n",
              "Name: Cupper.Points, dtype: float64"
            ]
          },
          "metadata": {
            "tags": []
          },
          "execution_count": 85
        }
      ]
    },
    {
      "cell_type": "code",
      "metadata": {
        "id": "ConfZoi-52Jd",
        "colab": {
          "base_uri": "https://localhost:8080/",
          "height": 35
        },
        "outputId": "891549c3-e81a-42a2-91af-623194452b98"
      },
      "source": [
        "model.predict([[14,\t20,\t3,\t0.8571,\t0.000000,\t1,\t0.06250,\t0.3227]])"
      ],
      "execution_count": null,
      "outputs": [
        {
          "output_type": "execute_result",
          "data": {
            "text/plain": [
              "array([[7.7562356]], dtype=float32)"
            ]
          },
          "metadata": {
            "tags": []
          },
          "execution_count": 86
        }
      ]
    }
  ]
}